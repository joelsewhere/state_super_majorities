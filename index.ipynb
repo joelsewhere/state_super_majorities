{
 "cells": [
  {
   "cell_type": "markdown",
   "id": "0e5ca8d9-6445-4b94-91e4-bcf6210c1875",
   "metadata": {},
   "source": [
    "# Analyzing State Supermajorities\n",
    "\n",
    "\n",
    "The data for this analysis comes from [Ballotpedia](https://ballotpedia.org/) and contains data that classifies states according to the degree of \"monopoly\" a political party has over the state's government. \n",
    "\n",
    "I encourage you to check out the analysis [here](https://ballotpedia.org/State_government_trifectas) which is where the data is source from. \n",
    "\n",
    "Ballotpedia classifies states in different types of **Trifectas**. Below is Ballotpedia's definition for `Trifectas`:\n",
    "\n",
    "> State government trifecta is a term to describe single-party government, \n",
    "when one political party holds the governorship and majorities \n",
    "in both chambers of the state legislature. \n"
   ]
  },
  {
   "cell_type": "markdown",
   "id": "7adcbb1c-1cd0-49e2-a374-0bcf1d8441cb",
   "metadata": {},
   "source": [
    "**Below I collect the dataset from Ballotpedia's website**"
   ]
  },
  {
   "cell_type": "code",
   "execution_count": 1,
   "id": "2674d166-5608-4ef4-b4f1-077d3b54d01e",
   "metadata": {},
   "outputs": [
    {
     "data": {
      "text/html": [
       "<div>\n",
       "<style scoped>\n",
       "    .dataframe tbody tr th:only-of-type {\n",
       "        vertical-align: middle;\n",
       "    }\n",
       "\n",
       "    .dataframe tbody tr th {\n",
       "        vertical-align: top;\n",
       "    }\n",
       "\n",
       "    .dataframe thead tr th {\n",
       "        text-align: left;\n",
       "    }\n",
       "</style>\n",
       "<table border=\"1\" class=\"dataframe\">\n",
       "  <thead>\n",
       "    <tr>\n",
       "      <th></th>\n",
       "      <th colspan=\"4\" halign=\"left\">Trifecta status by state</th>\n",
       "    </tr>\n",
       "    <tr>\n",
       "      <th></th>\n",
       "      <th>State</th>\n",
       "      <th>Trifecta status</th>\n",
       "      <th>Year of last status change</th>\n",
       "      <th>Unnamed: 3_level_1</th>\n",
       "    </tr>\n",
       "  </thead>\n",
       "  <tbody>\n",
       "    <tr>\n",
       "      <th>0</th>\n",
       "      <td>Alabama</td>\n",
       "      <td>Republican trifecta</td>\n",
       "      <td>2011</td>\n",
       "      <td>NaN</td>\n",
       "    </tr>\n",
       "    <tr>\n",
       "      <th>1</th>\n",
       "      <td>Alaska</td>\n",
       "      <td>Divided government</td>\n",
       "      <td>2015</td>\n",
       "      <td>NaN</td>\n",
       "    </tr>\n",
       "    <tr>\n",
       "      <th>2</th>\n",
       "      <td>Arizona</td>\n",
       "      <td>Republican trifecta</td>\n",
       "      <td>2009</td>\n",
       "      <td>NaN</td>\n",
       "    </tr>\n",
       "    <tr>\n",
       "      <th>3</th>\n",
       "      <td>Arkansas</td>\n",
       "      <td>Republican trifecta</td>\n",
       "      <td>2015</td>\n",
       "      <td>NaN</td>\n",
       "    </tr>\n",
       "    <tr>\n",
       "      <th>4</th>\n",
       "      <td>California</td>\n",
       "      <td>Democratic trifecta</td>\n",
       "      <td>2011</td>\n",
       "      <td>NaN</td>\n",
       "    </tr>\n",
       "  </tbody>\n",
       "</table>\n",
       "</div>"
      ],
      "text/plain": [
       "  Trifecta status by state                                                  \\\n",
       "                     State      Trifecta status Year of last status change   \n",
       "0                  Alabama  Republican trifecta                       2011   \n",
       "1                   Alaska   Divided government                       2015   \n",
       "2                  Arizona  Republican trifecta                       2009   \n",
       "3                 Arkansas  Republican trifecta                       2015   \n",
       "4               California  Democratic trifecta                       2011   \n",
       "\n",
       "                      \n",
       "  Unnamed: 3_level_1  \n",
       "0                NaN  \n",
       "1                NaN  \n",
       "2                NaN  \n",
       "3                NaN  \n",
       "4                NaN  "
      ]
     },
     "execution_count": 1,
     "metadata": {},
     "output_type": "execute_result"
    }
   ],
   "source": [
    "import pandas as pd\n",
    "from datetime import datetime\n",
    "import matplotlib.pyplot as plt\n",
    "from IPython.display import display\n",
    "\n",
    "df = pd.read_html('https://ballotpedia.org/State_government_trifectas')[4]\n",
    "df.head()"
   ]
  },
  {
   "cell_type": "markdown",
   "id": "306f4d7c-edcc-48e1-b944-c837736a7be3",
   "metadata": {},
   "source": [
    "**Next I...**\n",
    "- Drop unecessary columns\n",
    "- Add a column that counts the number years since the status of the state's trifecta has changed"
   ]
  },
  {
   "cell_type": "code",
   "execution_count": 2,
   "id": "dfe42d43-6bfd-4252-991e-681f4cf8bd64",
   "metadata": {},
   "outputs": [
    {
     "data": {
      "text/html": [
       "<div>\n",
       "<style scoped>\n",
       "    .dataframe tbody tr th:only-of-type {\n",
       "        vertical-align: middle;\n",
       "    }\n",
       "\n",
       "    .dataframe tbody tr th {\n",
       "        vertical-align: top;\n",
       "    }\n",
       "\n",
       "    .dataframe thead th {\n",
       "        text-align: right;\n",
       "    }\n",
       "</style>\n",
       "<table border=\"1\" class=\"dataframe\">\n",
       "  <thead>\n",
       "    <tr style=\"text-align: right;\">\n",
       "      <th></th>\n",
       "      <th>state</th>\n",
       "      <th>trifecta_status</th>\n",
       "      <th>year_of_last_status_change</th>\n",
       "      <th>years_with_trifecta</th>\n",
       "    </tr>\n",
       "  </thead>\n",
       "  <tbody>\n",
       "    <tr>\n",
       "      <th>0</th>\n",
       "      <td>Alabama</td>\n",
       "      <td>Republican trifecta</td>\n",
       "      <td>2011</td>\n",
       "      <td>11</td>\n",
       "    </tr>\n",
       "    <tr>\n",
       "      <th>1</th>\n",
       "      <td>Alaska</td>\n",
       "      <td>Divided government</td>\n",
       "      <td>2015</td>\n",
       "      <td>7</td>\n",
       "    </tr>\n",
       "    <tr>\n",
       "      <th>2</th>\n",
       "      <td>Arizona</td>\n",
       "      <td>Republican trifecta</td>\n",
       "      <td>2009</td>\n",
       "      <td>13</td>\n",
       "    </tr>\n",
       "    <tr>\n",
       "      <th>3</th>\n",
       "      <td>Arkansas</td>\n",
       "      <td>Republican trifecta</td>\n",
       "      <td>2015</td>\n",
       "      <td>7</td>\n",
       "    </tr>\n",
       "    <tr>\n",
       "      <th>4</th>\n",
       "      <td>California</td>\n",
       "      <td>Democratic trifecta</td>\n",
       "      <td>2011</td>\n",
       "      <td>11</td>\n",
       "    </tr>\n",
       "  </tbody>\n",
       "</table>\n",
       "</div>"
      ],
      "text/plain": [
       "        state      trifecta_status  year_of_last_status_change  \\\n",
       "0     Alabama  Republican trifecta                        2011   \n",
       "1      Alaska   Divided government                        2015   \n",
       "2     Arizona  Republican trifecta                        2009   \n",
       "3    Arkansas  Republican trifecta                        2015   \n",
       "4  California  Democratic trifecta                        2011   \n",
       "\n",
       "   years_with_trifecta  \n",
       "0                   11  \n",
       "1                    7  \n",
       "2                   13  \n",
       "3                    7  \n",
       "4                   11  "
      ]
     },
     "metadata": {},
     "output_type": "display_data"
    }
   ],
   "source": [
    "df.columns = df.columns.droplevel().str.lower().str.replace(' ', '_')\n",
    "df = df[[x for x in df.columns if 'unnamed' not in x]]\n",
    "df = df.assign(years_with_trifecta=datetime.now().year - df.year_of_last_status_change.astype(int))\n",
    "display(df.head())"
   ]
  },
  {
   "cell_type": "markdown",
   "id": "050babb7-955f-47e2-8a10-d62445759743",
   "metadata": {},
   "source": [
    "**Next I filter out states with a \"Diveded government\" status because they different bodies of the state government are controlled by different political parties**"
   ]
  },
  {
   "cell_type": "code",
   "execution_count": 3,
   "id": "ae1c7228-5025-48eb-a2f5-adfeb64ac8bd",
   "metadata": {},
   "outputs": [],
   "source": [
    "df = df.query('~trifecta_status.str.contains(\"Divided\")')"
   ]
  },
  {
   "cell_type": "markdown",
   "id": "e5c8c749-b4f7-4695-a415-8075b794808f",
   "metadata": {},
   "source": [
    "### How many states have a current trifecta?"
   ]
  },
  {
   "cell_type": "code",
   "execution_count": 4,
   "id": "e2a56603-dd52-44ec-a24e-be5620695511",
   "metadata": {},
   "outputs": [
    {
     "name": "stdout",
     "output_type": "stream",
     "text": [
      "States with trifecta: 37\n"
     ]
    }
   ],
   "source": [
    "print('States with trifecta:', df.shape[0])"
   ]
  },
  {
   "cell_type": "markdown",
   "id": "4f72986e-2adc-4279-ac67-4cb6f9ea13c4",
   "metadata": {},
   "source": [
    "### How long on average have states held their current trifectas?"
   ]
  },
  {
   "cell_type": "code",
   "execution_count": 5,
   "id": "88f369b6-210f-41e5-8830-ad3266264c4a",
   "metadata": {},
   "outputs": [
    {
     "data": {
      "image/png": "[encoded data removed]",
      "text/plain": [
       "<Figure size 1080x432 with 1 Axes>"
      ]
     },
     "metadata": {
      "needs_background": "light"
     },
     "output_type": "display_data"
    }
   ],
   "source": [
    "average_years_trifecta = round(df.years_with_trifecta.mean(), 2)\n",
    "df.years_with_trifecta.hist(figsize=(15,6))\n",
    "plt.title(f'Trifecta duration\\n(Average Years with trifecta: {average_years_trifecta})', fontsize=15);"
   ]
  },
  {
   "cell_type": "markdown",
   "id": "92f3eb4d-8398-4ed5-98f8-2ad71642c6b6",
   "metadata": {},
   "source": [
    "### How many trifecta does each party have?"
   ]
  },
  {
   "cell_type": "code",
   "execution_count": 6,
   "id": "f20e76b8-4488-41fd-bab7-d0c67ebcc3c0",
   "metadata": {},
   "outputs": [
    {
     "data": {
      "image/png": "[encoded data removed]",
      "text/plain": [
       "<Figure size 1080x360 with 1 Axes>"
      ]
     },
     "metadata": {
      "needs_background": "light"
     },
     "output_type": "display_data"
    }
   ],
   "source": [
    "df.trifecta_status.value_counts().plot(kind='bar', figsize=(15,5))\n",
    "plt.xticks(rotation=0, fontsize=15)\n",
    "plt.title('Number of trifectas by political party', fontsize=25);"
   ]
  },
  {
   "cell_type": "markdown",
   "id": "0bae929d-9ee5-4b50-bff1-d625b80e8a78",
   "metadata": {},
   "source": [
    "### What is the average amount of years each party has held their trifecta?"
   ]
  },
  {
   "cell_type": "code",
   "execution_count": 7,
   "id": "90b165a6-6ec4-4a04-9968-9fce84c88c7e",
   "metadata": {},
   "outputs": [
    {
     "data": {
      "image/png": "[encoded data removed]",
      "text/plain": [
       "<Figure size 1080x432 with 2 Axes>"
      ]
     },
     "metadata": {
      "needs_background": "light"
     },
     "output_type": "display_data"
    }
   ],
   "source": [
    "fig, ax = plt.subplots(1,2, figsize=(15,6))\n",
    "\n",
    "df.groupby('trifecta_status').years_with_trifecta.mean().plot(kind='bar', ax=ax[0])\n",
    "for label in ax[0].get_xticklabels():\n",
    "    label.set_rotation(0)\n",
    "    label.set_fontsize(12)\n",
    "    \n",
    "df.groupby('trifecta_status').years_with_trifecta.median().plot(kind='bar', ax=ax[1])\n",
    "for label in ax[1].get_xticklabels():\n",
    "    label.set_rotation(0)\n",
    "    label.set_fontsize(12)\n",
    "\n",
    "ax[0].set_xlabel('')\n",
    "ax[1].set_xlabel('')\n",
    "ax[0].set_title('Mean years with trifecta', fontsize=15)\n",
    "ax[1].set_title('Median years with trifecta', fontsize=15);"
   ]
  }
 ],
 "metadata": {
  "kernelspec": {
   "display_name": "Python [conda env:general] *",
   "language": "python",
   "name": "conda-env-general-py"
  },
  "language_info": {
   "codemirror_mode": {
    "name": "ipython",
    "version": 3
   },
   "file_extension": ".py",
   "mimetype": "text/x-python",
   "name": "python",
   "nbconvert_exporter": "python",
   "pygments_lexer": "ipython3",
   "version": "3.10.2"
  }
 },
 "nbformat": 4,
 "nbformat_minor": 5
}
